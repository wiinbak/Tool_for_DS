{
 "cells": [
  {
   "cell_type": "markdown",
   "id": "86c29f93-00c9-49bc-bd68-6c5e797d895f",
   "metadata": {},
   "source": [
    "# Data Science Tools and Ecosystem"
   ]
  },
  {
   "cell_type": "markdown",
   "id": "b385ef98-29d3-417c-9957-2d5a9b5059f6",
   "metadata": {},
   "source": [
    "In this notebook, Data Science Tools and Ecosystem are summarized."
   ]
  },
  {
   "cell_type": "markdown",
   "id": "4392739e-1221-46e9-927b-4b2077452e48",
   "metadata": {},
   "source": [
    "### Objectives:\n",
    "\n",
    "- List popular languages for Data Science\n",
    "- List popular libraries for Data Science\n",
    "- List development environment open source tools used in data science\n",
    "- Examples of evaluating arithmetic expressions in Python\n",
    "- Create a code cell to convert minutes to hours"
   ]
  },
  {
   "cell_type": "markdown",
   "id": "903ec2e9-2539-4353-8317-faed4aeeb3a9",
   "metadata": {},
   "source": [
    " ### Some of the popular languages that Data Scientists use are:\n",
    "\n",
    "1. R\n",
    "2. Python\n",
    "3. SQL\n",
    "4. Scala\n",
    "5. Java\n",
    "6. Julia\n",
    "7. C++"
   ]
  },
  {
   "cell_type": "markdown",
   "id": "29533936-60eb-49b3-a38f-296308b8da5b",
   "metadata": {},
   "source": [
    "### Some of the commonly used libraries used by Data Scientists include:\n",
    "\n",
    "1. Scientific Computing Libraries: Libraries such as **Pandas** and **NumPy**, which are useful for data manipulation and analysis.\n",
    "2. Visualization Libraries: Using **Matplotlib** and **Seaborn** to visually represent data.\n",
    "3. Machine Learning and Deep Learning Libraries: Libraries like **Scikit-learn**, **Keras**, and **TensorFlow**, used for building and training models.\n",
    "4. Libraries in Other Languages: Libraries like **Apache Spark** and **ggplot2**, which are useful for data processing and visualization."
   ]
  },
  {
   "cell_type": "markdown",
   "id": "62a2d41e-5e77-4e4a-a196-3c90214a99f4",
   "metadata": {},
   "source": [
    "### Data Science Tools\n",
    "| Data Science Tools |\n",
    "| ------------------ |\n",
    "| Jupyter Notebook |\n",
    "| RStudio |\n",
    "| Spyder |"
   ]
  },
  {
   "cell_type": "markdown",
   "id": "1fe9f853-e145-474c-b0fb-0727869c6aa3",
   "metadata": {},
   "source": [
    "### Below are a few examples of evaluating arithmetic expressions in Python"
   ]
  },
  {
   "cell_type": "markdown",
   "id": "69ca81c7-dc80-4991-9b0d-c1317377d1b7",
   "metadata": {},
   "source": [
    "This a simple arithmetic expression to mutiply then add integers"
   ]
  },
  {
   "cell_type": "code",
   "execution_count": 27,
   "id": "1823ac21-b485-46a0-9d98-0d50c00f64d9",
   "metadata": {},
   "outputs": [
    {
     "data": {
      "text/plain": [
       "17"
      ]
     },
     "execution_count": 27,
     "metadata": {},
     "output_type": "execute_result"
    }
   ],
   "source": [
    "(3 * 4 ) + 5"
   ]
  },
  {
   "cell_type": "markdown",
   "id": "1e0de827-0b39-47f7-b419-98f55962354f",
   "metadata": {},
   "source": [
    "### This will convert 200 minutes to hours by diving by 60"
   ]
  },
  {
   "cell_type": "code",
   "execution_count": 38,
   "id": "bfce3150-96bf-4958-8b0e-672ab06a5b79",
   "metadata": {},
   "outputs": [
    {
     "name": "stdout",
     "output_type": "stream",
     "text": [
      "3 hours, 20 minutes.\n"
     ]
    }
   ],
   "source": [
    "minute = 200\n",
    "x = minute // 60  # hours\n",
    "y = minute % 60   # minutes\n",
    "print(f\"{x} hours, {y} minutes.\")"
   ]
  },
  {
   "cell_type": "markdown",
   "id": "6cf6e463-27ab-4c2d-9514-762bd6b53f81",
   "metadata": {},
   "source": [
    "## Author\n",
    "Nobuaki Momose"
   ]
  }
 ],
 "metadata": {
  "kernelspec": {
   "display_name": "Python [conda env:base] *",
   "language": "python",
   "name": "conda-base-py"
  },
  "language_info": {
   "codemirror_mode": {
    "name": "ipython",
    "version": 3
   },
   "file_extension": ".py",
   "mimetype": "text/x-python",
   "name": "python",
   "nbconvert_exporter": "python",
   "pygments_lexer": "ipython3",
   "version": "3.12.7"
  }
 },
 "nbformat": 4,
 "nbformat_minor": 5
}
